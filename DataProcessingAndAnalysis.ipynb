{
 "cells": [
  {
   "cell_type": "code",
   "execution_count": 1,
   "metadata": {
    "collapsed": true
   },
   "outputs": [],
   "source": [
    "import ReadData as rd\n",
    "\n",
    "import gzip\n",
    "from collections import defaultdict\n",
    "import pandas as pd\n",
    "from wordcloud import STOPWORDS, WordCloud\n",
    "import matplotlib.pyplot as plt\n",
    "from collections import defaultdict\n",
    "\n",
    "from nltk.tokenize import RegexpTokenizer\n",
    "from stop_words import get_stop_words\n",
    "from nltk.stem.porter import PorterStemmer\n",
    "from gensim import corpora, models\n",
    "import gensim\n",
    "import numpy as np\n",
    "\n",
    "from nltk.stem import WordNetLemmatizer\n",
    "lemm = WordNetLemmatizer()\n",
    "import nltk\n",
    "# from pandas.tools.plotting import scatter_matrix\n",
    "from pandas.plotting import scatter_matrix\n",
    "from nltk.corpus import stopwords\n",
    "from nltk.tokenize import wordpunct_tokenize\n",
    "\n",
    "from pandas.io.json import json_normalize\n",
    "\n",
    "\n",
    "reviewFile=\"dataset/reviewShuffled.json\"\n",
    "businessFile=\"dataset/business.json\"\n",
    "userFile=\"dataset/user.json\""
   ]
  },
  {
   "cell_type": "code",
   "execution_count": 5,
   "metadata": {
    "collapsed": true
   },
   "outputs": [],
   "source": [
    "def getRestaurantBusinesses():\n",
    "    bdata=rd.readData(fileName=businessFile,breakCondition=10000000)\n",
    "    businessSet=[]\n",
    "    bData=[]\n",
    "    for b in bdata:\n",
    "        bid,categoryList=b['business_id'],b['categories']\n",
    "        if 'Restaurants' in categoryList:\n",
    "            bData.append(b)\n",
    "            businessSet.append(bid)\n",
    "#     bdata=pd.DataFrame(bData,index=businessSet)\n",
    "    return bData,businessSet\n",
    "\n",
    "def getGeographicalRestaurants(bdata,businessSet,state=\"AZ\"):\n",
    "    bData=pd.DataFrame(bdata,index=businessSet)\n",
    "    stateBusinesses=bData[bData.state==state]\n",
    "    return stateBusinesses\n",
    "\n",
    "def getRestaurantReviews(reviewdata,businessSet):\n",
    "    businessSet=set(azData.business_id)    \n",
    "    print(\"Data Loaded\")\n",
    "    data=[]\n",
    "    for d in reviewdata:\n",
    "        bid=d['business_id']\n",
    "        if bid in businessSet:\n",
    "            data.append(d)\n",
    "    print(len(data))\n",
    "    return data\n",
    "\n"
   ]
  },
  {
   "cell_type": "code",
   "execution_count": 6,
   "metadata": {},
   "outputs": [
    {
     "name": "stdout",
     "output_type": "stream",
     "text": [
      "Data Loaded\n",
      "Total Data:  4736897\n"
     ]
    }
   ],
   "source": [
    "reviewdata=rd.readData(fileName=reviewFile,breakCondition=5000000)"
   ]
  },
  {
   "cell_type": "code",
   "execution_count": 7,
   "metadata": {},
   "outputs": [
    {
     "name": "stdout",
     "output_type": "stream",
     "text": [
      "Data Loaded\n",
      "Total Data:  156639\n"
     ]
    },
    {
     "data": {
      "text/plain": [
       "(51613, 51613)"
      ]
     },
     "execution_count": 7,
     "metadata": {},
     "output_type": "execute_result"
    }
   ],
   "source": [
    "bdata,businessSet=getRestaurantBusinesses()\n",
    "len(bdata),len(businessSet)"
   ]
  },
  {
   "cell_type": "code",
   "execution_count": 64,
   "metadata": {
    "collapsed": true
   },
   "outputs": [],
   "source": [
    "totalbusDF=pd.DataFrame(bdata,index=businessSet)"
   ]
  },
  {
   "cell_type": "code",
   "execution_count": 144,
   "metadata": {},
   "outputs": [
    {
     "data": {
      "text/plain": [
       "(address         12634\n",
       " attributes      12634\n",
       " business_id     12634\n",
       " categories      12634\n",
       " city            12634\n",
       " hours           12634\n",
       " is_open         12634\n",
       " latitude        12634\n",
       " longitude       12634\n",
       " name            12634\n",
       " neighborhood    12634\n",
       " postal_code     12634\n",
       " review_count    12634\n",
       " stars           12634\n",
       " state           12634\n",
       " dtype: int64, address         10219\n",
       " attributes      10219\n",
       " business_id     10219\n",
       " categories      10219\n",
       " city            10219\n",
       " hours           10219\n",
       " is_open         10219\n",
       " latitude        10219\n",
       " longitude       10219\n",
       " name            10219\n",
       " neighborhood    10219\n",
       " postal_code     10219\n",
       " review_count    10219\n",
       " stars           10219\n",
       " state           10219\n",
       " dtype: int64)"
      ]
     },
     "execution_count": 144,
     "metadata": {},
     "output_type": "execute_result"
    }
   ],
   "source": [
    "totalbusDF[totalbusDF.state==\"ON\"].count(),totalbusDF[totalbusDF.state==\"AZ\"].count()"
   ]
  },
  {
   "cell_type": "code",
   "execution_count": 157,
   "metadata": {},
   "outputs": [
    {
     "data": {
      "image/png": "[encoded data removed]",
      "text/plain": [
       "<matplotlib.figure.Figure at 0x1a2aac9668>"
      ]
     },
     "metadata": {},
     "output_type": "display_data"
    }
   ],
   "source": [
    "# totalbusDF[\"state\"].value_counts()\n",
    "# for i in totalbusDF[\"state\"]:\n",
    "#     print(i,i.value_counts())\n",
    "\n",
    "# CountStatus = pd.value_counts(totalbusDF['state'].values,sort=True)\n",
    "# print(CountStatus)\n",
    "# CountStatus.plot.barh()\n",
    "# pd.value_counts(totalbusDF['state']).plot.bar()\n",
    "s2 = pd.Series([i for i in totalbusDF['state']])\n",
    "prob = s2.value_counts(normalize=True)\n",
    "threshold = 0.02\n",
    "mask = prob > threshold\n",
    "tail_prob = prob.loc[~mask].sum()\n",
    "prob = prob.loc[mask]\n",
    "# prob['other'] = tail_prob\n",
    "prob.plot(kind='bar')\n",
    "plt.xlabel('States')\n",
    "plt.ylabel('Distribution Ratio')\n",
    "plt.xticks(rotation=25)\n",
    "plt.savefig(\"Plots/stateRestaurantDistribution.pdf\",format=\"pdf\")\n",
    "plt.show()\n"
   ]
  },
  {
   "cell_type": "code",
   "execution_count": 154,
   "metadata": {},
   "outputs": [
    {
     "data": {
      "text/html": [
       "<div>\n",
       "<style>\n",
       "    .dataframe thead tr:only-child th {\n",
       "        text-align: right;\n",
       "    }\n",
       "\n",
       "    .dataframe thead th {\n",
       "        text-align: left;\n",
       "    }\n",
       "\n",
       "    .dataframe tbody tr th {\n",
       "        vertical-align: top;\n",
       "    }\n",
       "</style>\n",
       "<table border=\"1\" class=\"dataframe\">\n",
       "  <thead>\n",
       "    <tr style=\"text-align: right;\">\n",
       "      <th>col_0</th>\n",
       "      <th>Count</th>\n",
       "    </tr>\n",
       "    <tr>\n",
       "      <th>stars</th>\n",
       "      <th></th>\n",
       "    </tr>\n",
       "  </thead>\n",
       "  <tbody>\n",
       "    <tr>\n",
       "      <th>1.0</th>\n",
       "      <td>314</td>\n",
       "    </tr>\n",
       "    <tr>\n",
       "      <th>1.5</th>\n",
       "      <td>969</td>\n",
       "    </tr>\n",
       "    <tr>\n",
       "      <th>2.0</th>\n",
       "      <td>2689</td>\n",
       "    </tr>\n",
       "    <tr>\n",
       "      <th>2.5</th>\n",
       "      <td>5108</td>\n",
       "    </tr>\n",
       "    <tr>\n",
       "      <th>3.0</th>\n",
       "      <td>9434</td>\n",
       "    </tr>\n",
       "    <tr>\n",
       "      <th>3.5</th>\n",
       "      <td>12747</td>\n",
       "    </tr>\n",
       "    <tr>\n",
       "      <th>4.0</th>\n",
       "      <td>12922</td>\n",
       "    </tr>\n",
       "    <tr>\n",
       "      <th>4.5</th>\n",
       "      <td>6064</td>\n",
       "    </tr>\n",
       "    <tr>\n",
       "      <th>5.0</th>\n",
       "      <td>1366</td>\n",
       "    </tr>\n",
       "  </tbody>\n",
       "</table>\n",
       "</div>"
      ],
      "text/plain": [
       "col_0  Count\n",
       "stars       \n",
       "1.0      314\n",
       "1.5      969\n",
       "2.0     2689\n",
       "2.5     5108\n",
       "3.0     9434\n",
       "3.5    12747\n",
       "4.0    12922\n",
       "4.5     6064\n",
       "5.0     1366"
      ]
     },
     "execution_count": 154,
     "metadata": {},
     "output_type": "execute_result"
    }
   ],
   "source": [
    "# stateRatings = pd.crosstab(index=totalbusDF[\"state\"], \n",
    "#                           columns=totalbusDF[\"stars\"])\n",
    "stateRatings = pd.crosstab(index=totalbusDF[\"stars\"],columns=\"Count\")\n",
    "\n",
    "stateRatings"
   ]
  },
  {
   "cell_type": "code",
   "execution_count": 162,
   "metadata": {},
   "outputs": [
    {
     "data": {
      "image/png": "[encoded data removed]",
      "text/plain": [
       "<matplotlib.figure.Figure at 0x1a2b0120f0>"
      ]
     },
     "metadata": {},
     "output_type": "display_data"
    }
   ],
   "source": [
    "stateRatings.plot(kind=\"bar\", \n",
    "                 figsize=(8,8),\n",
    "                 stacked=True,legend=None)\n",
    "plt.xlabel('States')\n",
    "plt.ylabel('Count')\n",
    "# plt.legend.remove()\n",
    "plt.savefig(\"Plots/ratingStateWise3.pdf\",format=\"pdf\")\n",
    "plt.show()"
   ]
  },
  {
   "cell_type": "code",
   "execution_count": 163,
   "metadata": {},
   "outputs": [
    {
     "data": {
      "image/png": "[encoded data removed]",
      "text/plain": [
       "<matplotlib.figure.Figure at 0x1a2af4a0b8>"
      ]
     },
     "metadata": {},
     "output_type": "display_data"
    }
   ],
   "source": [
    "stateRatings.plot(kind=\"bar\", \n",
    "                 figsize=(8,8),\n",
    "                 stacked=True,legend=None)\n",
    "\n",
    "plt.savefig(\"Plots/overallBusinessrating4.pdf\",format=\"pdf\")\n",
    "plt.show()"
   ]
  },
  {
   "cell_type": "code",
   "execution_count": 75,
   "metadata": {},
   "outputs": [
    {
     "data": {
      "text/plain": [
       "state  stars\n",
       "01     3.5         4\n",
       "       3.0         1\n",
       "       4.5         1\n",
       "3      5.0         1\n",
       "ABE    4.5         1\n",
       "AZ     4.0      2574\n",
       "       3.5      2440\n",
       "       3.0      1827\n",
       "       2.5      1139\n",
       "       4.5      1093\n",
       "       2.0       618\n",
       "       1.5       234\n",
       "       5.0       222\n",
       "       1.0        72\n",
       "BW     4.0       515\n",
       "       3.5       395\n",
       "       4.5       329\n",
       "       3.0       256\n",
       "       2.5       108\n",
       "       5.0       107\n",
       "       2.0        35\n",
       "       1.5         8\n",
       "       1.0         6\n",
       "BY     3.0         1\n",
       "       3.5         1\n",
       "       5.0         1\n",
       "C      3.5         8\n",
       "       4.0         5\n",
       "       3.0         3\n",
       "       4.5         3\n",
       "                ... \n",
       "SC     4.0        38\n",
       "       2.5        23\n",
       "       4.5        20\n",
       "       2.0        15\n",
       "       1.5         7\n",
       "       5.0         6\n",
       "       1.0         2\n",
       "ST     2.5         1\n",
       "       3.5         1\n",
       "       4.5         1\n",
       "       5.0         1\n",
       "WA     3.0         1\n",
       "WHT    3.0         1\n",
       "WI     4.0       403\n",
       "       3.5       367\n",
       "       3.0       272\n",
       "       4.5       156\n",
       "       2.5       149\n",
       "       2.0        66\n",
       "       5.0        31\n",
       "       1.5        29\n",
       "       1.0        13\n",
       "WLN    3.5         6\n",
       "       2.5         3\n",
       "       3.0         3\n",
       "       4.0         3\n",
       "       4.5         2\n",
       "       5.0         1\n",
       "XGL    4.5         1\n",
       "ZET    3.0         1\n",
       "Name: stars, Length: 184, dtype: int64"
      ]
     },
     "execution_count": 75,
     "metadata": {},
     "output_type": "execute_result"
    }
   ],
   "source": [
    "test=totalbusDF.groupby('state')['stars'].value_counts()\n",
    "test"
   ]
  },
  {
   "cell_type": "code",
   "execution_count": null,
   "metadata": {},
   "outputs": [],
   "source": [
    "azData=getGeographicalRestaurants(bdata,businessSet,state=\"AZ\")\n",
    "# print(bdata[:1])\n",
    "print(len(bdata),len(azData))"
   ]
  },
  {
   "cell_type": "code",
   "execution_count": null,
   "metadata": {
    "collapsed": true
   },
   "outputs": [],
   "source": []
  },
  {
   "cell_type": "code",
   "execution_count": null,
   "metadata": {},
   "outputs": [],
   "source": [
    "data=getRestaurantReviews(reviewdata,azData)"
   ]
  },
  {
   "cell_type": "code",
   "execution_count": null,
   "metadata": {
    "collapsed": true
   },
   "outputs": [],
   "source": [
    "trainData=data[:200000]\n",
    "reviewDataDF=pd.DataFrame(trainData)"
   ]
  },
  {
   "cell_type": "code",
   "execution_count": null,
   "metadata": {},
   "outputs": [],
   "source": [
    "stop=set(stopwords.words('english'))\n",
    "stop.update(['.', ',', '\"', \"'\", '?', '!', ':', ';', '(', ')', '[', ']', '{', '}'])\n",
    "def get_stop_removed(x):\n",
    "    return [i.lower() for i in wordpunct_tokenize( \"\".join(x.tolist())) if i.lower() not in stop]"
   ]
  },
  {
   "cell_type": "code",
   "execution_count": null,
   "metadata": {},
   "outputs": [],
   "source": [
    "reviewDataDF[:100]"
   ]
  },
  {
   "cell_type": "code",
   "execution_count": null,
   "metadata": {},
   "outputs": [],
   "source": [
    "rating5Stars=get_stop_removed(reviewDataDF[reviewDataDF['stars']==5]['text'])\n",
    "rating1Stars=get_stop_removed(reviewDataDF[reviewDataDF['stars']==1]['text'])"
   ]
  },
  {
   "cell_type": "code",
   "execution_count": null,
   "metadata": {
    "collapsed": true
   },
   "outputs": [],
   "source": [
    "def cloud_plot(wordcloud):\n",
    "#     fig = plt.figure(1, figsize=(20,15))\n",
    "    plt.figure( 1,figsize=(20,10))\n",
    "    plt.imshow(wordcloud)\n",
    "    plt.axis('off')\n",
    "#     plt.tight_layout(pad=0)\n",
    "#     plt.savefig(\"5StarWordCloud\",format=\"pdf\")\n",
    "    plt.savefig('1StarWordCloud', format=\"pdf\", bbox_inches='tight')\n",
    "    plt.show()\n",
    "\n",
    "\n",
    "\n"
   ]
  },
  {
   "cell_type": "code",
   "execution_count": null,
   "metadata": {},
   "outputs": [],
   "source": [
    "wordcloud_rep=WordCloud(\n",
    "                          background_color='white',\n",
    "                          stopwords=set(STOPWORDS),\n",
    "                          width=3200, \n",
    "                          height=1600,\n",
    "                          max_words=2000,\n",
    "                          max_font_size=400, \n",
    "                          random_state=1705\n",
    "                         ).generate(\" \".join(rating5Stars))\n"
   ]
  },
  {
   "cell_type": "code",
   "execution_count": null,
   "metadata": {
    "collapsed": true
   },
   "outputs": [],
   "source": [
    "wordcloud_rep=WordCloud(\n",
    "                          background_color='white',\n",
    "                          stopwords=set(STOPWORDS),\n",
    "                          width=3200, \n",
    "                          height=1600,\n",
    "                          max_words=2000,\n",
    "                          max_font_size=400, \n",
    "                          random_state=1705\n",
    "                         ).generate(\" \".join(rating1Stars))\n",
    "\n"
   ]
  },
  {
   "cell_type": "code",
   "execution_count": null,
   "metadata": {},
   "outputs": [],
   "source": [
    "cloud_plot(wordcloud_rep)"
   ]
  },
  {
   "cell_type": "code",
   "execution_count": null,
   "metadata": {},
   "outputs": [],
   "source": [
    "x,y = [],[]\n",
    "y.append (azData.stars)\n",
    "x.append (azData.review_count)\n",
    "fig = plt.figure()\n",
    "ax = fig.add_subplot(111)\n",
    "ax.plot(y,x,'o-')\n",
    "ax.set_xlabel(\"Review Count\")\n",
    "ax.set_ylabel(\"Rating\")\n",
    "plt.show()\n",
    "\n"
   ]
  },
  {
   "cell_type": "code",
   "execution_count": null,
   "metadata": {
    "collapsed": true
   },
   "outputs": [],
   "source": [
    "\n",
    "wordcloud_rep=WordCloud(\n",
    "                          background_color='white',\n",
    "                          stopwords=set(STOPWORDS),\n",
    "                          max_words=250,\n",
    "                          max_font_size=40, \n",
    "                          random_state=1705\n",
    "                         ).generate(\" \".join(resp_republican))"
   ]
  },
  {
   "cell_type": "code",
   "execution_count": null,
   "metadata": {
    "scrolled": true
   },
   "outputs": [],
   "source": [
    "bdata=rd.readData(fileName=businessFile,breakCondition=10000000)\n",
    "print(bdata[:1])\n",
    "# print(len(bdata))\n",
    "bdata[:1]"
   ]
  },
  {
   "cell_type": "code",
   "execution_count": null,
   "metadata": {},
   "outputs": [],
   "source": [
    "bDF=pd.DataFrame(bdata)"
   ]
  },
  {
   "cell_type": "code",
   "execution_count": null,
   "metadata": {},
   "outputs": [],
   "source": [
    "bDF['stars'].value_counts()"
   ]
  },
  {
   "cell_type": "code",
   "execution_count": null,
   "metadata": {},
   "outputs": [],
   "source": [
    "categoryDict=defaultdict(int)\n",
    "businessSet=set()\n",
    "bData=[]\n",
    "for b in bdata:\n",
    "    bid,categoryList=b['business_id'],b['categories']\n",
    "    if 'Restaurants' in categoryList:\n",
    "        bData.append(b)\n",
    "        businessSet.add(bid)\n",
    "print(len(bdata))\n",
    "bdata=bData\n",
    "bData=[]\n",
    "print(len(bdata),len(businessSet))"
   ]
  },
  {
   "cell_type": "code",
   "execution_count": null,
   "metadata": {},
   "outputs": [],
   "source": [
    "# jsonFile=rd.json.load(businessFile)\n",
    "df = json_normalize(bdata)\n",
    "\n"
   ]
  },
  {
   "cell_type": "code",
   "execution_count": null,
   "metadata": {
    "collapsed": true
   },
   "outputs": [],
   "source": [
    "df=df*1\n",
    "df=df.fillna(0)"
   ]
  },
  {
   "cell_type": "code",
   "execution_count": null,
   "metadata": {
    "collapsed": true
   },
   "outputs": [],
   "source": [
    "df=df.drop(['business_id','postal_code','city','categories','address','is_open','latitude','longitude','name','neighborhood','state'], axis=1)\n",
    "\n"
   ]
  },
  {
   "cell_type": "code",
   "execution_count": null,
   "metadata": {
    "collapsed": true
   },
   "outputs": [],
   "source": [
    "for d in df.columns:\n",
    "    if 'hours' in d:\n",
    "        df=df.drop([d],axis=1)\n",
    "        "
   ]
  },
  {
   "cell_type": "code",
   "execution_count": null,
   "metadata": {},
   "outputs": [],
   "source": [
    "for d in df.columns:\n",
    "    print(df[d].value_counts())\n",
    "    \n"
   ]
  },
  {
   "cell_type": "code",
   "execution_count": null,
   "metadata": {
    "collapsed": true
   },
   "outputs": [],
   "source": [
    "delColList=[]\n",
    "for d in df.columns:\n",
    "#     print(df[d].value_counts())\n",
    "    valList=[]\n",
    "    for val in df[d].value_counts():\n",
    "#         print(\"val= \",val)\n",
    "        valList.append(int(val))\n",
    "    valList.sort()\n",
    "    valList.reverse()\n",
    "    if valList[0]==0:\n",
    "        delColList.append(d)\n",
    "        break\n",
    "    if len(valList)>1:\n",
    "        num=valList[1]/valList[0]\n",
    "#         print(num, \" :num\")\n",
    "    if num<0.2:\n",
    "        delColList.append(d)\n",
    "#     break\n",
    "delColList=set(delColList)\n",
    "for d in df.columns:\n",
    "    if d in delColList:\n",
    "        df=df.drop([d],axis=1)\n",
    "\n"
   ]
  },
  {
   "cell_type": "code",
   "execution_count": null,
   "metadata": {
    "collapsed": true
   },
   "outputs": [],
   "source": [
    "sLength = len(df['a'])\n",
    "df1 = df1.assign(e=p.Series(np.random.randn(sLength)).values)"
   ]
  },
  {
   "cell_type": "code",
   "execution_count": null,
   "metadata": {
    "collapsed": true
   },
   "outputs": [],
   "source": [
    "df=pd.get_dummies(df,columns = ['attributes.Alcohol','attributes.NoiseLevel','attributes.RestaurantsPriceRange2','attributes.WiFi'] )"
   ]
  },
  {
   "cell_type": "code",
   "execution_count": null,
   "metadata": {},
   "outputs": [],
   "source": [
    "df[:10]"
   ]
  },
  {
   "cell_type": "code",
   "execution_count": null,
   "metadata": {},
   "outputs": [],
   "source": [
    "df[:10]"
   ]
  },
  {
   "cell_type": "code",
   "execution_count": null,
   "metadata": {
    "collapsed": true
   },
   "outputs": [],
   "source": [
    "df.columns = df.columns.map(lambda x: x.split(\".\")[-1])\n"
   ]
  },
  {
   "cell_type": "code",
   "execution_count": null,
   "metadata": {},
   "outputs": [],
   "source": [
    "categoryDict=defaultdict(int)\n",
    "businessSet=set()\n",
    "bData=[]\n",
    "for b in bdata:\n",
    "    bid,categoryList=b['business_id'],b['categories']\n",
    "    if 'Restaurants' in categoryList:\n",
    "        bData.append(b)\n",
    "        businessSet.add(bid)\n",
    "print(len(bdata))\n",
    "bdata=bData\n",
    "bData=[]\n",
    "print(len(bdata),len(businessSet))"
   ]
  },
  {
   "cell_type": "code",
   "execution_count": null,
   "metadata": {},
   "outputs": [],
   "source": [
    "bdata[99:100]"
   ]
  },
  {
   "cell_type": "code",
   "execution_count": null,
   "metadata": {
    "collapsed": true
   },
   "outputs": [],
   "source": [
    "bdData = pd.DataFrame(bdata)"
   ]
  },
  {
   "cell_type": "code",
   "execution_count": null,
   "metadata": {},
   "outputs": [],
   "source": [
    "bData[:1]"
   ]
  },
  {
   "cell_type": "code",
   "execution_count": null,
   "metadata": {},
   "outputs": [],
   "source": [
    "len(bdData)"
   ]
  },
  {
   "cell_type": "code",
   "execution_count": null,
   "metadata": {
    "collapsed": true
   },
   "outputs": [],
   "source": [
    "# bdData[\"state\"].value_counts()"
   ]
  },
  {
   "cell_type": "code",
   "execution_count": null,
   "metadata": {
    "collapsed": true
   },
   "outputs": [],
   "source": [
    "x=[[1,2,3,4],[2,5,1,2]]"
   ]
  },
  {
   "cell_type": "code",
   "execution_count": null,
   "metadata": {
    "collapsed": true
   },
   "outputs": [],
   "source": [
    "y = pd.DataFrame(x,index=['g','d'])"
   ]
  },
  {
   "cell_type": "code",
   "execution_count": null,
   "metadata": {
    "collapsed": true
   },
   "outputs": [],
   "source": [
    "y.columns=['a','aa','b','c']"
   ]
  },
  {
   "cell_type": "code",
   "execution_count": null,
   "metadata": {
    "scrolled": true
   },
   "outputs": [],
   "source": [
    "y"
   ]
  },
  {
   "cell_type": "code",
   "execution_count": null,
   "metadata": {},
   "outputs": [],
   "source": [
    "for i in range(0,y.shape[0]):\n",
    "    y.iloc[i]['a']+=2\n",
    "print(y.loc['g'])"
   ]
  },
  {
   "cell_type": "code",
   "execution_count": null,
   "metadata": {},
   "outputs": [],
   "source": [
    "y.loc['g']"
   ]
  },
  {
   "cell_type": "code",
   "execution_count": null,
   "metadata": {},
   "outputs": [],
   "source": [
    "type(y.loc['g'])\n",
    "var=y.loc['g']\n",
    "p=1.5\n",
    "q=4.5\n",
    "p1=pd.Series([p])\n",
    "var=var.append(p1)\n",
    "var=var.rename({0: 'p'})\n",
    "y.loc['g']=var\n",
    "var\n",
    "# list(var)"
   ]
  },
  {
   "cell_type": "code",
   "execution_count": null,
   "metadata": {
    "collapsed": true
   },
   "outputs": [],
   "source": [
    "featMat=pd.DataFrame(columns=['a','b','c'])"
   ]
  },
  {
   "cell_type": "code",
   "execution_count": null,
   "metadata": {},
   "outputs": [],
   "source": [
    "df = pd.DataFrame([[1,2,3]], columns=['a','b','c'])\n",
    "featMat=featMat.append(df)\n",
    "featMat"
   ]
  },
  {
   "cell_type": "code",
   "execution_count": null,
   "metadata": {
    "collapsed": true
   },
   "outputs": [],
   "source": [
    "y.to_csv(\"dataset/DF.csv\", encoding='utf-8', index=False)"
   ]
  },
  {
   "cell_type": "code",
   "execution_count": null,
   "metadata": {},
   "outputs": [],
   "source": [
    "for i in y:\n",
    "    print(i)\n",
    "y"
   ]
  },
  {
   "cell_type": "code",
   "execution_count": null,
   "metadata": {},
   "outputs": [],
   "source": [
    "y"
   ]
  },
  {
   "cell_type": "code",
   "execution_count": null,
   "metadata": {},
   "outputs": [],
   "source": [
    "y"
   ]
  },
  {
   "cell_type": "code",
   "execution_count": null,
   "metadata": {
    "collapsed": true
   },
   "outputs": [],
   "source": [
    "y.columns=['a','aa','b','c']\n",
    "y.rows=['x','y']"
   ]
  },
  {
   "cell_type": "code",
   "execution_count": null,
   "metadata": {},
   "outputs": [],
   "source": [
    "y"
   ]
  },
  {
   "cell_type": "code",
   "execution_count": null,
   "metadata": {},
   "outputs": [],
   "source": [
    "rawdata=rd.readData(fileName=reviewFile,breakCondition=5000000)\n",
    "data=[]\n",
    "for d in rawdata:\n",
    "    bid=d['business_id']\n",
    "    if bid in businessSet:\n",
    "        data.append(d)\n",
    "print(len(data))\n",
    "rawdata=[]"
   ]
  },
  {
   "cell_type": "code",
   "execution_count": null,
   "metadata": {},
   "outputs": [],
   "source": [
    "data[:1]"
   ]
  },
  {
   "cell_type": "code",
   "execution_count": null,
   "metadata": {},
   "outputs": [],
   "source": [
    "data[:1]\n",
    "print(len(data))"
   ]
  },
  {
   "cell_type": "code",
   "execution_count": null,
   "metadata": {},
   "outputs": [],
   "source": [
    "businessSet=set()\n",
    "for d in data[:200000]:\n",
    "    bid=d['business_id']\n",
    "    businessSet.add(bid)\n",
    "print(len(businessSet))\n",
    "    "
   ]
  },
  {
   "cell_type": "code",
   "execution_count": null,
   "metadata": {
    "collapsed": true
   },
   "outputs": [],
   "source": [
    "data=rd.readData(fileName=reviewFile,breakCondition=50000)"
   ]
  },
  {
   "cell_type": "code",
   "execution_count": null,
   "metadata": {
    "collapsed": true
   },
   "outputs": [],
   "source": [
    "nounList=[]\n",
    "count=0\n",
    "for d in data:\n",
    "    tagged_text = nltk.pos_tag(d['text'])\n",
    "    for word, tag in tagged_text:\n",
    "        if tag in [\"NN\", \"NNS\"]:\n",
    "            nounList.append(word)\n",
    "    count+=1\n",
    "    if(count%1000==0):\n",
    "        print(count)\n"
   ]
  },
  {
   "cell_type": "code",
   "execution_count": null,
   "metadata": {
    "collapsed": true
   },
   "outputs": [],
   "source": [
    "nounList"
   ]
  },
  {
   "cell_type": "code",
   "execution_count": null,
   "metadata": {
    "collapsed": true
   },
   "outputs": [],
   "source": [
    "data=rd.readData(fileName=reviewFile,breakCondition=100000)"
   ]
  },
  {
   "cell_type": "code",
   "execution_count": null,
   "metadata": {
    "collapsed": true
   },
   "outputs": [],
   "source": [
    "bdata=rd.readData(fileName=businessFile)"
   ]
  },
  {
   "cell_type": "code",
   "execution_count": null,
   "metadata": {
    "collapsed": true
   },
   "outputs": [],
   "source": [
    "udata=rd.readData(fileName=userFile)"
   ]
  },
  {
   "cell_type": "code",
   "execution_count": null,
   "metadata": {
    "collapsed": true
   },
   "outputs": [],
   "source": [
    "tData=data[:10]\n",
    "businessSet=[]\n",
    "for d in tData:\n",
    "    businessSet.append(d['business_id'])\n",
    "businessSet=set(businessSet)\n",
    "len(businessSet)"
   ]
  },
  {
   "cell_type": "code",
   "execution_count": null,
   "metadata": {
    "collapsed": true
   },
   "outputs": [],
   "source": [
    "tData"
   ]
  },
  {
   "cell_type": "code",
   "execution_count": null,
   "metadata": {
    "collapsed": true
   },
   "outputs": [],
   "source": [
    "rData=pd.DataFrame(tData)\n",
    "tokenizer = RegexpTokenizer(r'\\w+')\n",
    "en_stop = get_stop_words('en')\n",
    "en_stop=set(en_stop)\n",
    "en_stop.update(['.', ',', '\"', \"'\", '?', '!', ':', ';', '(', ')', '[', ']', '{', '}'])\n",
    "p_stemmer = PorterStemmer()"
   ]
  },
  {
   "cell_type": "code",
   "execution_count": null,
   "metadata": {
    "collapsed": true
   },
   "outputs": [],
   "source": [
    "latentFactor=5\n",
    "texts=[]\n",
    "for b in businessSet:\n",
    "    for d in rData[rData.business_id==b]['text'].values:\n",
    "        d=d.lower()\n",
    "        tokens = tokenizer.tokenize(d)\n",
    "        stopped_tokens = [i for i in tokens if not i in en_stop]\n",
    "#         stemmed_tokens = [p_stemmer.stem(i) for i in stopped_tokens]\n",
    "        lemm_tokens = [lemm.lemmatize(i) for i in stopped_tokens if(len(i)>2)]\n",
    "        texts.append(lemm_tokens)\n"
   ]
  },
  {
   "cell_type": "code",
   "execution_count": null,
   "metadata": {
    "collapsed": true
   },
   "outputs": [],
   "source": [
    "dictionary = corpora.Dictionary(texts)"
   ]
  },
  {
   "cell_type": "code",
   "execution_count": null,
   "metadata": {
    "collapsed": true
   },
   "outputs": [],
   "source": [
    "corpus = [dictionary.doc2bow(t) for t in texts]"
   ]
  },
  {
   "cell_type": "code",
   "execution_count": null,
   "metadata": {
    "collapsed": true
   },
   "outputs": [],
   "source": [
    "ldamodel = models.ldamodel.LdaModel(corpus, num_topics=5, id2word = dictionary, passes=10)"
   ]
  },
  {
   "cell_type": "code",
   "execution_count": null,
   "metadata": {
    "collapsed": true
   },
   "outputs": [],
   "source": [
    "ldamodel.print_topics(num_topics=5, num_words=10)"
   ]
  },
  {
   "cell_type": "code",
   "execution_count": null,
   "metadata": {
    "collapsed": true
   },
   "outputs": [],
   "source": [
    "uMap = defaultdict(int)\n",
    "iMap = defaultdict(int)\n",
    "iCount=0\n",
    "uCount=0\n",
    "for i in tData:\n",
    "    user, item = i['user_id'], i['business_id']\n",
    "    if user not in uMap:\n",
    "        uMap[user]=uCount\n",
    "        uCount+=1\n",
    "    if item not in iMap:\n",
    "        iMap[item]=iCount\n",
    "        iCount+=1\n",
    "latentFactor=5\n",
    "texts=[]\n",
    "y_i=np.zeros((len(businessSet),latentFactor ))\n",
    "# print(y_i)\n",
    "\n",
    "for b in businessSet:\n",
    "#     print(b)\n",
    "    for d in rData[rData.business_id==b]['text'].values:\n",
    "        d=d.lower()\n",
    "        tokens = tokenizer.tokenize(d)\n",
    "        stopped_tokens = [i for i in tokens if not i in en_stop]\n",
    "#         stemmed_tokens = [p_stemmer.stem(i) for i in stopped_tokens]\n",
    "        lemm_tokens = [lemm.lemmatize(i) for i in stopped_tokens if(len(i)>2)]\n",
    "        bow = dictionary.doc2bow(lemm_tokens)\n",
    "        topics=ldamodel.get_document_topics(bow)\n",
    "        for topic,prob in topics:\n",
    "            y_i[iMap[b]][topic]=prob\n",
    "        print(topics)\n",
    "\n",
    "print(y_i)\n",
    "# for i in y_i:\n",
    "#     print(i)\n",
    "#         print((y_i[i][j]))"
   ]
  },
  {
   "cell_type": "code",
   "execution_count": null,
   "metadata": {
    "collapsed": true
   },
   "outputs": [],
   "source": [
    "for b in businessSet:\n",
    "    print(rData[rData.business_id==b]['text'].values)"
   ]
  },
  {
   "cell_type": "code",
   "execution_count": null,
   "metadata": {
    "collapsed": true
   },
   "outputs": [],
   "source": []
  }
 ],
 "metadata": {
  "kernelspec": {
   "display_name": "Python 3",
   "language": "python",
   "name": "python3"
  },
  "language_info": {
   "codemirror_mode": {
    "name": "ipython",
    "version": 3
   },
   "file_extension": ".py",
   "mimetype": "text/x-python",
   "name": "python",
   "nbconvert_exporter": "python",
   "pygments_lexer": "ipython3",
   "version": "3.6.2"
  }
 },
 "nbformat": 4,
 "nbformat_minor": 2
}
