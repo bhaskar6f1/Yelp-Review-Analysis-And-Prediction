{
 "cells": [
  {
   "cell_type": "code",
   "execution_count": 8,
   "metadata": {},
   "outputs": [],
   "source": [
    "import HelperReviewAnalysis as helper\n",
    "import ReadData as rd\n",
    "import pandas as pd\n",
    "from pandas.io.json import json_normalize\n",
    "from matplotlib import pyplot as plt\n",
    "\n",
    "reviewFile=\"dataset/reviewShuffled.json\"\n",
    "businessFile=\"dataset/business.json\"\n",
    "userFile=\"dataset/user.json\""
   ]
  },
  {
   "cell_type": "code",
   "execution_count": 2,
   "metadata": {},
   "outputs": [
    {
     "name": "stdout",
     "output_type": "stream",
     "text": [
      "Data Loaded\n",
      "Total Data:  4736897\n"
     ]
    }
   ],
   "source": [
    "reviewdata=rd.readData(fileName=reviewFile,breakCondition=5000000)"
   ]
  },
  {
   "cell_type": "code",
   "execution_count": 17,
   "metadata": {},
   "outputs": [
    {
     "name": "stdout",
     "output_type": "stream",
     "text": [
      "Data Loaded\n",
      "Total Data:  1183362\n"
     ]
    }
   ],
   "source": [
    "userdata=rd.readData(fileName=userFile,breakCondition=5000000)"
   ]
  },
  {
   "cell_type": "code",
   "execution_count": 3,
   "metadata": {
    "collapsed": true
   },
   "outputs": [],
   "source": [
    "def getRestaurantBusinesses():\n",
    "    bdata=rd.readData(fileName=businessFile,breakCondition=10000000)\n",
    "    businessSet=[]\n",
    "    bData=[]\n",
    "    for b in bdata:\n",
    "        bid,categoryList=b['business_id'],b['categories']\n",
    "        if 'Restaurants' in categoryList:\n",
    "            bData.append(b)\n",
    "            businessSet.append(bid)\n",
    "#     bdata=pd.DataFrame(bData,index=businessSet)\n",
    "    return bData,businessSet\n",
    "\n",
    "def getGeographicalRestaurants(bdata,businessSet,state=\"AZ\"):\n",
    "    bData=pd.DataFrame(bdata,index=businessSet)\n",
    "    stateBusinesses=bData[bData.state==state]\n",
    "    return stateBusinesses\n",
    "\n",
    "def getRestaurantReviews(reviewdata,businessSet):\n",
    "    businessSet=set(azData.business_id)    \n",
    "    print(\"Data Loaded\")\n",
    "    data=[]\n",
    "    for d in reviewdata:\n",
    "        bid=d['business_id']\n",
    "        if bid in businessSet:\n",
    "            data.append(d)\n",
    "    print(len(data))\n",
    "    return data\n"
   ]
  },
  {
   "cell_type": "code",
   "execution_count": 4,
   "metadata": {},
   "outputs": [
    {
     "name": "stdout",
     "output_type": "stream",
     "text": [
      "Data Loaded\n",
      "Total Data:  156639\n"
     ]
    },
    {
     "data": {
      "text/plain": [
       "(51613, 51613)"
      ]
     },
     "execution_count": 4,
     "metadata": {},
     "output_type": "execute_result"
    }
   ],
   "source": [
    "bdata,businessSet=getRestaurantBusinesses()\n",
    "len(bdata),len(businessSet)\n",
    "\n"
   ]
  },
  {
   "cell_type": "code",
   "execution_count": 5,
   "metadata": {},
   "outputs": [
    {
     "name": "stdout",
     "output_type": "stream",
     "text": [
      "51613 10219\n"
     ]
    }
   ],
   "source": [
    "azData=getGeographicalRestaurants(bdata,businessSet,state=\"AZ\")\n",
    "# print(bdata[:1])\n",
    "print(len(bdata),len(azData))"
   ]
  },
  {
   "cell_type": "code",
   "execution_count": 6,
   "metadata": {},
   "outputs": [
    {
     "data": {
      "text/html": [
       "<div>\n",
       "<style>\n",
       "    .dataframe thead tr:only-child th {\n",
       "        text-align: right;\n",
       "    }\n",
       "\n",
       "    .dataframe thead th {\n",
       "        text-align: left;\n",
       "    }\n",
       "\n",
       "    .dataframe tbody tr th {\n",
       "        vertical-align: top;\n",
       "    }\n",
       "</style>\n",
       "<table border=\"1\" class=\"dataframe\">\n",
       "  <thead>\n",
       "    <tr style=\"text-align: right;\">\n",
       "      <th></th>\n",
       "      <th>address</th>\n",
       "      <th>attributes</th>\n",
       "      <th>business_id</th>\n",
       "      <th>categories</th>\n",
       "      <th>city</th>\n",
       "      <th>hours</th>\n",
       "      <th>is_open</th>\n",
       "      <th>latitude</th>\n",
       "      <th>longitude</th>\n",
       "      <th>name</th>\n",
       "      <th>neighborhood</th>\n",
       "      <th>postal_code</th>\n",
       "      <th>review_count</th>\n",
       "      <th>stars</th>\n",
       "      <th>state</th>\n",
       "    </tr>\n",
       "  </thead>\n",
       "  <tbody>\n",
       "    <tr>\n",
       "      <th>duHFBe87uNSXImQmvBh87Q</th>\n",
       "      <td>4719 N 20Th St</td>\n",
       "      <td>{'RestaurantsTableService': False, 'GoodForMea...</td>\n",
       "      <td>duHFBe87uNSXImQmvBh87Q</td>\n",
       "      <td>[Sandwiches, Restaurants]</td>\n",
       "      <td>Phoenix</td>\n",
       "      <td>{}</td>\n",
       "      <td>0</td>\n",
       "      <td>33.505928</td>\n",
       "      <td>-112.038847</td>\n",
       "      <td>Blimpie</td>\n",
       "      <td></td>\n",
       "      <td>85016</td>\n",
       "      <td>10</td>\n",
       "      <td>4.5</td>\n",
       "      <td>AZ</td>\n",
       "    </tr>\n",
       "  </tbody>\n",
       "</table>\n",
       "</div>"
      ],
      "text/plain": [
       "                               address  \\\n",
       "duHFBe87uNSXImQmvBh87Q  4719 N 20Th St   \n",
       "\n",
       "                                                               attributes  \\\n",
       "duHFBe87uNSXImQmvBh87Q  {'RestaurantsTableService': False, 'GoodForMea...   \n",
       "\n",
       "                                   business_id                 categories  \\\n",
       "duHFBe87uNSXImQmvBh87Q  duHFBe87uNSXImQmvBh87Q  [Sandwiches, Restaurants]   \n",
       "\n",
       "                           city hours  is_open   latitude   longitude  \\\n",
       "duHFBe87uNSXImQmvBh87Q  Phoenix    {}        0  33.505928 -112.038847   \n",
       "\n",
       "                           name neighborhood postal_code  review_count  stars  \\\n",
       "duHFBe87uNSXImQmvBh87Q  Blimpie                    85016            10    4.5   \n",
       "\n",
       "                       state  \n",
       "duHFBe87uNSXImQmvBh87Q    AZ  "
      ]
     },
     "execution_count": 6,
     "metadata": {},
     "output_type": "execute_result"
    }
   ],
   "source": [
    "azData[:1]"
   ]
  },
  {
   "cell_type": "code",
   "execution_count": 15,
   "metadata": {},
   "outputs": [
    {
     "data": {
      "text/plain": [
       "4.0    2574\n",
       "3.5    2440\n",
       "3.0    1827\n",
       "2.5    1139\n",
       "4.5    1093\n",
       "2.0     618\n",
       "1.5     234\n",
       "5.0     222\n",
       "1.0      72\n",
       "Name: stars, dtype: int64"
      ]
     },
     "execution_count": 15,
     "metadata": {},
     "output_type": "execute_result"
    }
   ],
   "source": [
    "azData['stars'].value_counts()"
   ]
  },
  {
   "cell_type": "code",
   "execution_count": 16,
   "metadata": {},
   "outputs": [
    {
     "data": {
      "text/plain": [
       "<matplotlib.figure.Figure at 0x1bbca09860>"
      ]
     },
     "metadata": {},
     "output_type": "display_data"
    },
    {
     "data": {
      "image/png": "[encoded data removed]",
      "text/plain": [
       "<matplotlib.figure.Figure at 0x1bd8f1e9b0>"
      ]
     },
     "metadata": {},
     "output_type": "display_data"
    }
   ],
   "source": [
    "x,y = [],[]\n",
    "y.append (azData.stars)\n",
    "x.append (azData.review_count)\n",
    "fig = plt.figure()\n",
    "ax = fig.add_subplot(111)\n",
    "ax.plot(y,x,'o-')\n",
    "ax.set_xlabel(\"Review Count\")\n",
    "ax.set_ylabel(\"Rating\")\n",
    "plt.show()\n"
   ]
  },
  {
   "cell_type": "code",
   "execution_count": null,
   "metadata": {
    "collapsed": true
   },
   "outputs": [],
   "source": []
  },
  {
   "cell_type": "code",
   "execution_count": null,
   "metadata": {},
   "outputs": [],
   "source": [
    "data=getRestaurantReviews(reviewdata,azData)\n"
   ]
  },
  {
   "cell_type": "code",
   "execution_count": null,
   "metadata": {
    "collapsed": true
   },
   "outputs": [],
   "source": [
    "featDF=json_normalize(bdata)"
   ]
  },
  {
   "cell_type": "code",
   "execution_count": null,
   "metadata": {
    "collapsed": true
   },
   "outputs": [],
   "source": [
    "bIdMap=dict(zip(range(len(featDF)), businessSet))"
   ]
  },
  {
   "cell_type": "code",
   "execution_count": null,
   "metadata": {
    "collapsed": true
   },
   "outputs": [],
   "source": [
    "featDF=featDF.rename(bIdMap)\n",
    "featDF=featDF[featDF.state==\"AZ\"]"
   ]
  },
  {
   "cell_type": "code",
   "execution_count": null,
   "metadata": {
    "scrolled": true
   },
   "outputs": [],
   "source": [
    "featDF[:100]"
   ]
  },
  {
   "cell_type": "code",
   "execution_count": null,
   "metadata": {
    "collapsed": true
   },
   "outputs": [],
   "source": [
    "def cleanFeatureMatrix(df):\n",
    "    for d in df.columns:\n",
    "        if 'hours' in d:\n",
    "            df=df.drop([d],axis=1)\n",
    "    df=df*1\n",
    "    df=df.fillna(0)\n",
    "    df=df.drop(['business_id','postal_code','city','categories','address','is_open','latitude','longitude','name','neighborhood','state'], axis=1)\n",
    "    delColList=[]\n",
    "#     for i in df.columns:\n",
    "#         print(i)\n",
    "    for d in df.columns:\n",
    "        valList=[]\n",
    "        for val in df[d].value_counts():\n",
    "#         print(\"val= \",val)\n",
    "            valList.append(int(val))\n",
    "        valList.sort()\n",
    "        valList.reverse()\n",
    "        if valList[0]==0:\n",
    "            delColList.append(d)\n",
    "            break\n",
    "        if len(valList)>1:\n",
    "            num=valList[1]/valList[0]\n",
    "#         print(num, \" :num\")\n",
    "        if num<0.2:\n",
    "            delColList.append(d)\n",
    "#     break\n",
    "    delColList=set(delColList)\n",
    "\n",
    "    for d in df.columns:\n",
    "        if d in delColList:\n",
    "            df=df.drop([d],axis=1)\n",
    "    oneHotList=['attributes.RestaurantsAttire','attributes.Alcohol','attributes.NoiseLevel','attributes.RestaurantsPriceRange2','attributes.WiFi']\n",
    "   \n",
    "        \n",
    "    colList=[i for i in oneHotList if not i in delColList]\n",
    "    df=pd.get_dummies(df,columns = colList )\n",
    "    return df\n",
    "\n"
   ]
  },
  {
   "cell_type": "code",
   "execution_count": null,
   "metadata": {},
   "outputs": [],
   "source": [
    "print(len(featDF))\n",
    "featDF=cleanFeatureMatrix(featDF)\n",
    "print(len(featDF))"
   ]
  },
  {
   "cell_type": "code",
   "execution_count": null,
   "metadata": {},
   "outputs": [],
   "source": [
    "featDF[:10]"
   ]
  },
  {
   "cell_type": "code",
   "execution_count": null,
   "metadata": {
    "collapsed": true
   },
   "outputs": [],
   "source": [
    "trainData=data[:200000]\n",
    "reviewDataDF=pd.DataFrame(trainData)"
   ]
  },
  {
   "cell_type": "code",
   "execution_count": null,
   "metadata": {
    "collapsed": true
   },
   "outputs": [],
   "source": [
    "azUsers=set(reviewDataDF.user_id.unique())"
   ]
  },
  {
   "cell_type": "code",
   "execution_count": null,
   "metadata": {
    "collapsed": true
   },
   "outputs": [],
   "source": [
    "azusersList=[]\n",
    "uidList=[]\n",
    "for u in userdata:\n",
    "    uid=u['user_id']\n",
    "    if uid in azUsers:\n",
    "        azusersList.append(u)\n",
    "        uidList.append(uid)\n",
    "        "
   ]
  },
  {
   "cell_type": "code",
   "execution_count": null,
   "metadata": {
    "collapsed": true
   },
   "outputs": [],
   "source": [
    "userDataDF=pd.DataFrame(azusersList,uidList)"
   ]
  },
  {
   "cell_type": "code",
   "execution_count": null,
   "metadata": {},
   "outputs": [],
   "source": [
    "userDataDF[:1]\n",
    "# len(userDataDF),len(azUsers)"
   ]
  },
  {
   "cell_type": "code",
   "execution_count": null,
   "metadata": {},
   "outputs": [],
   "source": [
    "trainData[:1]"
   ]
  },
  {
   "cell_type": "code",
   "execution_count": null,
   "metadata": {},
   "outputs": [],
   "source": [
    "columnList=['biasTerm']+list(featDF.columns)\n",
    "columnList.append('userAvgRating')\n",
    "columnList.append('userReviewCount')\n",
    "featMat=pd.DataFrame(columns=columnList)\n",
    "featMat"
   ]
  },
  {
   "cell_type": "code",
   "execution_count": null,
   "metadata": {
    "scrolled": true
   },
   "outputs": [],
   "source": [
    "count=0\n",
    "def feature(datum,featMat):\n",
    "    global count\n",
    "    bid,user_id=datum['business_id'],datum['user_id']\n",
    "    feature=[1]\n",
    "    feat=featDF.loc[bid]\n",
    "    userAvgRating=userDataDF.loc[user_id]['average_stars']\n",
    "    userReviewCount=userDataDF.loc[user_id]['review_count']\n",
    "    f1=pd.Series([userAvgRating])\n",
    "    feat=feat.append(f1)\n",
    "    feat=feat.rename({0: userAvgRating})\n",
    "    f2=pd.Series([userReviewCount])\n",
    "    feat=feat.append(f2)\n",
    "    feat=feat.rename({0: userReviewCount})\n",
    "    count+=1\n",
    "    if count%1000==0:\n",
    "        print(count)\n",
    "    feature+=list(feat)\n",
    "#     print(feature)\n",
    "    df = pd.DataFrame([feature], columns=columnList)\n",
    "    featMat=featMat.append(df,ignore_index=True)\n",
    "    return featMat\n",
    "\n",
    "\n",
    "for d in trainData:\n",
    "    featMat=feature(d,featMat)\n",
    "# featMat[:10]"
   ]
  },
  {
   "cell_type": "code",
   "execution_count": null,
   "metadata": {
    "collapsed": true
   },
   "outputs": [],
   "source": [
    "featMat.to_csv(\"dataset/ArizonaFeatureMatrixDF.csv\", encoding='utf-8', index=False)"
   ]
  },
  {
   "cell_type": "code",
   "execution_count": null,
   "metadata": {
    "collapsed": true
   },
   "outputs": [],
   "source": []
  },
  {
   "cell_type": "code",
   "execution_count": null,
   "metadata": {
    "collapsed": true
   },
   "outputs": [],
   "source": []
  }
 ],
 "metadata": {
  "kernelspec": {
   "display_name": "Python 3",
   "language": "python",
   "name": "python3"
  },
  "language_info": {
   "codemirror_mode": {
    "name": "ipython",
    "version": 3
   },
   "file_extension": ".py",
   "mimetype": "text/x-python",
   "name": "python",
   "nbconvert_exporter": "python",
   "pygments_lexer": "ipython3",
   "version": "3.6.2"
  }
 },
 "nbformat": 4,
 "nbformat_minor": 2
}
